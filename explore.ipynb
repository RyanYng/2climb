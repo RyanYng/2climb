{
 "cells": [
  {
   "cell_type": "code",
   "execution_count": 328,
   "metadata": {},
   "outputs": [],
   "source": [
    "import pandas as pd\n",
    "import seaborn as sns\n",
    "import matplotlib.pyplot as plt\n",
    "import numpy as np\n"
   ]
  },
  {
   "cell_type": "markdown",
   "metadata": {},
   "source": [
    "### Import Data"
   ]
  },
  {
   "cell_type": "code",
   "execution_count": 311,
   "metadata": {},
   "outputs": [],
   "source": [
    "pca_data = pd.read_csv('./data/PowerCompanyAssessmentData.csv', encoding='unicode_escape')\n",
    "df = pca_data"
   ]
  },
  {
   "cell_type": "code",
   "execution_count": 312,
   "metadata": {},
   "outputs": [
    {
     "data": {
      "text/html": [
       "<div>\n",
       "<style scoped>\n",
       "    .dataframe tbody tr th:only-of-type {\n",
       "        vertical-align: middle;\n",
       "    }\n",
       "\n",
       "    .dataframe tbody tr th {\n",
       "        vertical-align: top;\n",
       "    }\n",
       "\n",
       "    .dataframe thead th {\n",
       "        text-align: right;\n",
       "    }\n",
       "</style>\n",
       "<table border=\"1\" class=\"dataframe\">\n",
       "  <thead>\n",
       "    <tr style=\"text-align: right;\">\n",
       "      <th></th>\n",
       "      <th>age</th>\n",
       "      <th>sex</th>\n",
       "      <th>max_boulder</th>\n",
       "      <th>max_sport</th>\n",
       "      <th>exp</th>\n",
       "      <th>trainexp</th>\n",
       "      <th>country</th>\n",
       "      <th>state</th>\n",
       "      <th>rock</th>\n",
       "      <th>season</th>\n",
       "      <th>...</th>\n",
       "      <th>ancamp_score</th>\n",
       "      <th>aercamp_score</th>\n",
       "      <th>rep1_score</th>\n",
       "      <th>cont_score</th>\n",
       "      <th>pullup_score</th>\n",
       "      <th>pushup_score</th>\n",
       "      <th>ohpr_score</th>\n",
       "      <th>ohpl_score</th>\n",
       "      <th>dl_score</th>\n",
       "      <th>bmi_score</th>\n",
       "    </tr>\n",
       "  </thead>\n",
       "  <tbody>\n",
       "    <tr>\n",
       "      <th>0</th>\n",
       "      <td>43</td>\n",
       "      <td>Female</td>\n",
       "      <td>&lt;V3</td>\n",
       "      <td>5.10c/d</td>\n",
       "      <td>&gt;10 years</td>\n",
       "      <td>&lt;1 year</td>\n",
       "      <td>United States</td>\n",
       "      <td>KY</td>\n",
       "      <td>Sandstone</td>\n",
       "      <td>7-9 months</td>\n",
       "      <td>...</td>\n",
       "      <td>41.0</td>\n",
       "      <td>62.0</td>\n",
       "      <td>31.0</td>\n",
       "      <td>16.0</td>\n",
       "      <td>2.0</td>\n",
       "      <td>6.0</td>\n",
       "      <td>NaN</td>\n",
       "      <td>NaN</td>\n",
       "      <td>NaN</td>\n",
       "      <td>25.1</td>\n",
       "    </tr>\n",
       "    <tr>\n",
       "      <th>1</th>\n",
       "      <td>16</td>\n",
       "      <td>Female</td>\n",
       "      <td>V6</td>\n",
       "      <td>5.12c/d</td>\n",
       "      <td>7-8 years</td>\n",
       "      <td>7-8 years</td>\n",
       "      <td>US</td>\n",
       "      <td>Montana</td>\n",
       "      <td>Limestone</td>\n",
       "      <td>4-6 months</td>\n",
       "      <td>...</td>\n",
       "      <td>NaN</td>\n",
       "      <td>NaN</td>\n",
       "      <td>120.0</td>\n",
       "      <td>28.0</td>\n",
       "      <td>15.0</td>\n",
       "      <td>30.0</td>\n",
       "      <td>0.12</td>\n",
       "      <td>0.12</td>\n",
       "      <td>0.88</td>\n",
       "      <td>21.5</td>\n",
       "    </tr>\n",
       "    <tr>\n",
       "      <th>2</th>\n",
       "      <td>19</td>\n",
       "      <td>Male</td>\n",
       "      <td>V9</td>\n",
       "      <td>5.13c/d</td>\n",
       "      <td>&gt;10 years</td>\n",
       "      <td>7-8 years</td>\n",
       "      <td>Usa</td>\n",
       "      <td>Georgia</td>\n",
       "      <td>Sandstone</td>\n",
       "      <td>4-6 months</td>\n",
       "      <td>...</td>\n",
       "      <td>114.0</td>\n",
       "      <td>301.0</td>\n",
       "      <td>117.0</td>\n",
       "      <td>54.0</td>\n",
       "      <td>18.0</td>\n",
       "      <td>70.0</td>\n",
       "      <td>NaN</td>\n",
       "      <td>NaN</td>\n",
       "      <td>NaN</td>\n",
       "      <td>22.2</td>\n",
       "    </tr>\n",
       "    <tr>\n",
       "      <th>3</th>\n",
       "      <td>34</td>\n",
       "      <td>Male</td>\n",
       "      <td>V8</td>\n",
       "      <td>5.12a/b</td>\n",
       "      <td>&gt;10 years</td>\n",
       "      <td>5-6 years</td>\n",
       "      <td>USA</td>\n",
       "      <td>North Carolina</td>\n",
       "      <td>Granite</td>\n",
       "      <td>4-6 months</td>\n",
       "      <td>...</td>\n",
       "      <td>NaN</td>\n",
       "      <td>NaN</td>\n",
       "      <td>NaN</td>\n",
       "      <td>47.0</td>\n",
       "      <td>15.0</td>\n",
       "      <td>35.0</td>\n",
       "      <td>NaN</td>\n",
       "      <td>NaN</td>\n",
       "      <td>NaN</td>\n",
       "      <td>25.1</td>\n",
       "    </tr>\n",
       "    <tr>\n",
       "      <th>4</th>\n",
       "      <td>30</td>\n",
       "      <td>Female</td>\n",
       "      <td>V8</td>\n",
       "      <td>5.12a/b</td>\n",
       "      <td>7-8 years</td>\n",
       "      <td>3-4 years</td>\n",
       "      <td>US</td>\n",
       "      <td>Washington</td>\n",
       "      <td>Granite</td>\n",
       "      <td>4-6 months</td>\n",
       "      <td>...</td>\n",
       "      <td>95.0</td>\n",
       "      <td>210.0</td>\n",
       "      <td>NaN</td>\n",
       "      <td>NaN</td>\n",
       "      <td>5.0</td>\n",
       "      <td>7.0</td>\n",
       "      <td>0.18</td>\n",
       "      <td>0.18</td>\n",
       "      <td>1.02</td>\n",
       "      <td>21.6</td>\n",
       "    </tr>\n",
       "  </tbody>\n",
       "</table>\n",
       "<p>5 rows × 44 columns</p>\n",
       "</div>"
      ],
      "text/plain": [
       "   age     sex max_boulder max_sport        exp   trainexp        country  \\\n",
       "0   43  Female         <V3   5.10c/d  >10 years    <1 year  United States   \n",
       "1   16  Female          V6   5.12c/d  7-8 years  7-8 years             US   \n",
       "2   19    Male          V9   5.13c/d  >10 years  7-8 years            Usa   \n",
       "3   34    Male          V8   5.12a/b  >10 years  5-6 years            USA   \n",
       "4   30  Female          V8   5.12a/b  7-8 years  3-4 years             US   \n",
       "\n",
       "            state       rock      season  ... ancamp_score  aercamp_score  \\\n",
       "0              KY  Sandstone  7-9 months  ...         41.0           62.0   \n",
       "1         Montana  Limestone  4-6 months  ...          NaN            NaN   \n",
       "2        Georgia   Sandstone  4-6 months  ...        114.0          301.0   \n",
       "3  North Carolina    Granite  4-6 months  ...          NaN            NaN   \n",
       "4      Washington    Granite  4-6 months  ...         95.0          210.0   \n",
       "\n",
       "   rep1_score  cont_score  pullup_score  pushup_score ohpr_score  ohpl_score  \\\n",
       "0        31.0        16.0           2.0           6.0        NaN         NaN   \n",
       "1       120.0        28.0          15.0          30.0       0.12        0.12   \n",
       "2       117.0        54.0          18.0          70.0        NaN         NaN   \n",
       "3         NaN        47.0          15.0          35.0        NaN         NaN   \n",
       "4         NaN         NaN           5.0           7.0       0.18        0.18   \n",
       "\n",
       "   dl_score  bmi_score  \n",
       "0       NaN       25.1  \n",
       "1      0.88       21.5  \n",
       "2       NaN       22.2  \n",
       "3       NaN       25.1  \n",
       "4      1.02       21.6  \n",
       "\n",
       "[5 rows x 44 columns]"
      ]
     },
     "execution_count": 312,
     "metadata": {},
     "output_type": "execute_result"
    }
   ],
   "source": [
    "df.head()"
   ]
  },
  {
   "cell_type": "markdown",
   "metadata": {},
   "source": [
    "### Cleaning"
   ]
  },
  {
   "cell_type": "markdown",
   "metadata": {},
   "source": [
    "#### Column removal"
   ]
  },
  {
   "cell_type": "code",
   "execution_count": 313,
   "metadata": {},
   "outputs": [
    {
     "data": {
      "text/plain": [
       "Index(['age', 'sex', 'max_boulder', 'max_sport', 'exp', 'trainexp', 'country',\n",
       "       'state', 'rock', 'season', 'days', 'height', 'weight', 'span', 'pullup',\n",
       "       'pushup', 'continuous', 'maxhang', 'weightedpull', 'repeaters1',\n",
       "       'longcamp', 'shortcamp', 'ohpr', 'ohll', 'dl', 'sportgrade',\n",
       "       'bouldergrade', 'powl', 'powr', 'Unnamed: 29', 'hang_score',\n",
       "       'pull_score', 'powl_score', 'powr_score', 'ancamp_score',\n",
       "       'aercamp_score', 'rep1_score', 'cont_score', 'pullup_score',\n",
       "       'pushup_score', 'ohpr_score', 'ohpl_score', 'dl_score', 'bmi_score'],\n",
       "      dtype='object')"
      ]
     },
     "execution_count": 313,
     "metadata": {},
     "output_type": "execute_result"
    }
   ],
   "source": [
    "df.columns"
   ]
  },
  {
   "cell_type": "code",
   "execution_count": 314,
   "metadata": {},
   "outputs": [],
   "source": [
    "to_drop = [\n",
    "    'state',\n",
    "    'season',\n",
    "    'days',\n",
    "    'longcamp',\n",
    "    'shortcamp',\n",
    "    'powl',\n",
    "    'powr',\n",
    "    'Unnamed: 29',\n",
    "    'powl_score',\n",
    "    'powr_score',\n",
    "    'ancamp_score',\n",
    "    'aercamp_score',\n",
    "    'ohpl_score',\n",
    "    'ohpr',\n",
    "    'ohll',\n",
    "    'rep1_score',\n",
    "    'cont_score',\n",
    "    'continuous',\n",
    "    'repeaters1',\n",
    "    'dl_score',\n",
    "    'ohpr_score',\n",
    "    'pushup_score',\n",
    "    'pullup_score',\n",
    "    'pull_score',\n",
    "    'hang_score'\n",
    "    ]\n",
    "df = df.drop(to_drop,axis =1)"
   ]
  },
  {
   "cell_type": "code",
   "execution_count": 315,
   "metadata": {},
   "outputs": [
    {
     "data": {
      "text/plain": [
       "Index(['age', 'sex', 'max_boulder', 'max_sport', 'exp', 'trainexp', 'country',\n",
       "       'rock', 'height', 'weight', 'span', 'pullup', 'pushup', 'maxhang',\n",
       "       'weightedpull', 'dl', 'sportgrade', 'bouldergrade', 'bmi_score'],\n",
       "      dtype='object')"
      ]
     },
     "execution_count": 315,
     "metadata": {},
     "output_type": "execute_result"
    }
   ],
   "source": [
    "df.columns"
   ]
  },
  {
   "cell_type": "markdown",
   "metadata": {},
   "source": [
    "#### Datatypes"
   ]
  },
  {
   "cell_type": "code",
   "execution_count": 316,
   "metadata": {},
   "outputs": [
    {
     "data": {
      "text/plain": [
       "age               int64\n",
       "sex              object\n",
       "max_boulder      object\n",
       "max_sport        object\n",
       "exp              object\n",
       "trainexp         object\n",
       "country          object\n",
       "rock             object\n",
       "height          float64\n",
       "weight          float64\n",
       "span            float64\n",
       "pullup          float64\n",
       "pushup          float64\n",
       "maxhang         float64\n",
       "weightedpull    float64\n",
       "dl              float64\n",
       "sportgrade       object\n",
       "bouldergrade     object\n",
       "bmi_score       float64\n",
       "dtype: object"
      ]
     },
     "execution_count": 316,
     "metadata": {},
     "output_type": "execute_result"
    }
   ],
   "source": [
    "df.dtypes"
   ]
  },
  {
   "cell_type": "code",
   "execution_count": 317,
   "metadata": {},
   "outputs": [],
   "source": [
    "df['country'] = df['country'].astype(str)"
   ]
  },
  {
   "cell_type": "markdown",
   "metadata": {},
   "source": [
    "#### Metric conversion"
   ]
  },
  {
   "cell_type": "markdown",
   "metadata": {},
   "source": [
    "Data set in lbs, I prefer Kilos"
   ]
  },
  {
   "cell_type": "code",
   "execution_count": 318,
   "metadata": {},
   "outputs": [],
   "source": [
    "def lbs_to_kg(lbs):\n",
    "    return lbs * 0.453592\n",
    "\n",
    "lbs_cols = ['weightedpull','dl','weight','maxhang']\n",
    "df[lbs_cols] = df[lbs_cols].apply(lbs_to_kg).round(2)"
   ]
  },
  {
   "cell_type": "markdown",
   "metadata": {},
   "source": [
    "Dataset in inches, I prefer feet"
   ]
  },
  {
   "cell_type": "code",
   "execution_count": 319,
   "metadata": {},
   "outputs": [],
   "source": [
    "def inches_to_feet(inches):\n",
    "    return inches/12\n",
    "\n",
    "inch_cols = ['height','span']\n",
    "df[inch_cols] = df[inch_cols].apply(inches_to_feet).round(2)"
   ]
  },
  {
   "cell_type": "markdown",
   "metadata": {},
   "source": [
    "#### Clean max_boulder\n"
   ]
  },
  {
   "cell_type": "code",
   "execution_count": 320,
   "metadata": {},
   "outputs": [],
   "source": [
    "# clean max_boulder\n",
    "df = df[df['max_boulder'] != '<V3']\n",
    "df['max_boulder'] = df['max_boulder'].str.split(\"V\").str[1]\n",
    "df = df[df['max_boulder'].notnull()]\n",
    "df['max_boulder'] = df['max_boulder'].apply(lambda x: '0'+ x if x[0] != '1' else x)\n",
    "df['max_boulder'] = df['max_boulder'].astype(float)"
   ]
  },
  {
   "cell_type": "markdown",
   "metadata": {},
   "source": [
    "#### Clean exp + train exp"
   ]
  },
  {
   "cell_type": "code",
   "execution_count": 329,
   "metadata": {},
   "outputs": [],
   "source": []
  },
  {
   "cell_type": "code",
   "execution_count": 331,
   "metadata": {},
   "outputs": [
    {
     "data": {
      "text/html": [
       "<div>\n",
       "<style scoped>\n",
       "    .dataframe tbody tr th:only-of-type {\n",
       "        vertical-align: middle;\n",
       "    }\n",
       "\n",
       "    .dataframe tbody tr th {\n",
       "        vertical-align: top;\n",
       "    }\n",
       "\n",
       "    .dataframe thead th {\n",
       "        text-align: right;\n",
       "    }\n",
       "</style>\n",
       "<table border=\"1\" class=\"dataframe\">\n",
       "  <thead>\n",
       "    <tr style=\"text-align: right;\">\n",
       "      <th></th>\n",
       "      <th>age</th>\n",
       "      <th>sex</th>\n",
       "      <th>max_boulder</th>\n",
       "      <th>max_sport</th>\n",
       "      <th>exp</th>\n",
       "      <th>trainexp</th>\n",
       "      <th>country</th>\n",
       "      <th>rock</th>\n",
       "      <th>height</th>\n",
       "      <th>weight</th>\n",
       "      <th>span</th>\n",
       "      <th>pullup</th>\n",
       "      <th>pushup</th>\n",
       "      <th>maxhang</th>\n",
       "      <th>weightedpull</th>\n",
       "      <th>dl</th>\n",
       "      <th>sportgrade</th>\n",
       "      <th>bouldergrade</th>\n",
       "      <th>bmi_score</th>\n",
       "      <th>trained_&gt;10_years</th>\n",
       "    </tr>\n",
       "  </thead>\n",
       "  <tbody>\n",
       "  </tbody>\n",
       "</table>\n",
       "</div>"
      ],
      "text/plain": [
       "Empty DataFrame\n",
       "Columns: [age, sex, max_boulder, max_sport, exp, trainexp, country, rock, height, weight, span, pullup, pushup, maxhang, weightedpull, dl, sportgrade, bouldergrade, bmi_score, trained_>10_years]\n",
       "Index: []"
      ]
     },
     "execution_count": 331,
     "metadata": {},
     "output_type": "execute_result"
    }
   ],
   "source": []
  },
  {
   "cell_type": "markdown",
   "metadata": {},
   "source": [
    "#### Clean country"
   ]
  },
  {
   "cell_type": "code",
   "execution_count": null,
   "metadata": {},
   "outputs": [],
   "source": [
    "# clean country\n",
    "df['country'] = df['country'].astype(str)\n",
    "df['country'] = df['country'].str.upper()\n",
    "df['country'] = df['country'].apply(lambda x: x.strip())\n",
    "country_dict = {\n",
    "    'US':'USA', \n",
    "    'UNITED STATES':'USA',\n",
    "    'UNITES STATES':'USA',\n",
    "    'UNITED STATES OF AMERICA':'USA',\n",
    "    'THE UNITED STATES OF AMERICA':'USA',\n",
    "    'MURICA':'USA',\n",
    "    'USA USA USA USA USA':'USA',\n",
    "    'UNITED STATS':'USA',\n",
    "    'CANADA':'CANADA',\n",
    "    'MALAWI':'MALAWI',\n",
    "    'FINLAND': 'FINLAND',\n",
    "    'GERMANY': 'GERMANY',\n",
    "    'DEUTSCHLAND': 'GERMANY',\n",
    "    'AUSTRALIA':'AUSTRALIA',\n",
    "    'SWEDEN':'SWEDEN',\n",
    "    'ITALY':'ITALY',\n",
    "    'ITALIA':'ITALY',\n",
    "    'IRELAND':'IRELAND',\n",
    "    'NORGE':'NORWAY',\n",
    "    'NORWAY':'NORWAY',\n",
    "    'UNITED KINGDOM':'UK',\n",
    "    'UK':'UK',\n",
    "    'INDIA':'INDIA',\n",
    "    'SPAIN':'SPAIN',\n",
    "    'COSTA RICA':'COSTA RICA',\n",
    "    'AUSTRIA':'AUSTRIA',\n",
    "    'COLOMBIA':'COLOMBIA',\n",
    "    'TAIWAN':'TAIWAN',\n",
    "    'ST HELENA':'ST HELENA',\n",
    "    'ALLEMAGNE':'GERMANY',\n",
    "    'MÉXICO':'MEXICO',\n",
    "    'THE NETHERLANDS':'NETHERLANDS',\n",
    "    'PORTUGAL':'PORTUGAL',\n",
    "    'SOUTH AFRICA':'SOUTH AFRICA',\n",
    "\n",
    "    }\n",
    "df['country'] = df['country'].map(country_dict)"
   ]
  },
  {
   "cell_type": "markdown",
   "metadata": {},
   "source": [
    "#### Clean/Bin age"
   ]
  },
  {
   "cell_type": "code",
   "execution_count": null,
   "metadata": {},
   "outputs": [],
   "source": [
    "# clean age\n",
    "bins = [10,20,30,40,50,60]\n",
    "df['age_bin'] = pd.cut(df['age'],bins)"
   ]
  },
  {
   "cell_type": "code",
   "execution_count": null,
   "metadata": {},
   "outputs": [],
   "source": [
    "\n",
    "\n",
    "\n",
    "\n",
    "\n",
    "# clean training experience"
   ]
  },
  {
   "cell_type": "code",
   "execution_count": null,
   "metadata": {},
   "outputs": [],
   "source": []
  },
  {
   "cell_type": "markdown",
   "metadata": {},
   "source": [
    "## Exploration"
   ]
  },
  {
   "cell_type": "code",
   "execution_count": null,
   "metadata": {},
   "outputs": [
    {
     "data": {
      "text/html": [
       "<div>\n",
       "<style scoped>\n",
       "    .dataframe tbody tr th:only-of-type {\n",
       "        vertical-align: middle;\n",
       "    }\n",
       "\n",
       "    .dataframe tbody tr th {\n",
       "        vertical-align: top;\n",
       "    }\n",
       "\n",
       "    .dataframe thead th {\n",
       "        text-align: right;\n",
       "    }\n",
       "</style>\n",
       "<table border=\"1\" class=\"dataframe\">\n",
       "  <thead>\n",
       "    <tr style=\"text-align: right;\">\n",
       "      <th></th>\n",
       "      <th>age</th>\n",
       "      <th>sex</th>\n",
       "      <th>max_boulder</th>\n",
       "      <th>max_sport</th>\n",
       "      <th>exp</th>\n",
       "      <th>trainexp</th>\n",
       "      <th>country</th>\n",
       "      <th>rock</th>\n",
       "      <th>height</th>\n",
       "      <th>weight</th>\n",
       "      <th>span</th>\n",
       "      <th>pullup</th>\n",
       "      <th>pushup</th>\n",
       "      <th>maxhang</th>\n",
       "      <th>weightedpull</th>\n",
       "      <th>dl</th>\n",
       "      <th>sportgrade</th>\n",
       "      <th>bouldergrade</th>\n",
       "      <th>bmi_score</th>\n",
       "      <th>age_bin</th>\n",
       "    </tr>\n",
       "  </thead>\n",
       "  <tbody>\n",
       "    <tr>\n",
       "      <th>1</th>\n",
       "      <td>16</td>\n",
       "      <td>Female</td>\n",
       "      <td>6.0</td>\n",
       "      <td>5.12c/d</td>\n",
       "      <td>7-8 years</td>\n",
       "      <td>7-8 years</td>\n",
       "      <td>USA</td>\n",
       "      <td>Limestone</td>\n",
       "      <td>5.33</td>\n",
       "      <td>56.70</td>\n",
       "      <td>5.33</td>\n",
       "      <td>15.0</td>\n",
       "      <td>30.0</td>\n",
       "      <td>4.54</td>\n",
       "      <td>9.07</td>\n",
       "      <td>49.90</td>\n",
       "      <td>NaN</td>\n",
       "      <td>NaN</td>\n",
       "      <td>21.5</td>\n",
       "      <td>(10, 20]</td>\n",
       "    </tr>\n",
       "    <tr>\n",
       "      <th>2</th>\n",
       "      <td>19</td>\n",
       "      <td>Male</td>\n",
       "      <td>9.0</td>\n",
       "      <td>5.13c/d</td>\n",
       "      <td>&gt;10 years</td>\n",
       "      <td>7-8 years</td>\n",
       "      <td>NaN</td>\n",
       "      <td>Sandstone</td>\n",
       "      <td>5.83</td>\n",
       "      <td>70.31</td>\n",
       "      <td>6.17</td>\n",
       "      <td>18.0</td>\n",
       "      <td>70.0</td>\n",
       "      <td>15.88</td>\n",
       "      <td>38.56</td>\n",
       "      <td>NaN</td>\n",
       "      <td>NaN</td>\n",
       "      <td>NaN</td>\n",
       "      <td>22.2</td>\n",
       "      <td>(10, 20]</td>\n",
       "    </tr>\n",
       "    <tr>\n",
       "      <th>3</th>\n",
       "      <td>34</td>\n",
       "      <td>Male</td>\n",
       "      <td>8.0</td>\n",
       "      <td>5.12a/b</td>\n",
       "      <td>&gt;10 years</td>\n",
       "      <td>5-6 years</td>\n",
       "      <td>NaN</td>\n",
       "      <td>Granite</td>\n",
       "      <td>5.67</td>\n",
       "      <td>74.84</td>\n",
       "      <td>6.00</td>\n",
       "      <td>15.0</td>\n",
       "      <td>35.0</td>\n",
       "      <td>22.68</td>\n",
       "      <td>31.75</td>\n",
       "      <td>NaN</td>\n",
       "      <td>NaN</td>\n",
       "      <td>NaN</td>\n",
       "      <td>25.1</td>\n",
       "      <td>(30, 40]</td>\n",
       "    </tr>\n",
       "    <tr>\n",
       "      <th>4</th>\n",
       "      <td>30</td>\n",
       "      <td>Female</td>\n",
       "      <td>8.0</td>\n",
       "      <td>5.12a/b</td>\n",
       "      <td>7-8 years</td>\n",
       "      <td>3-4 years</td>\n",
       "      <td>USA</td>\n",
       "      <td>Granite</td>\n",
       "      <td>5.67</td>\n",
       "      <td>64.41</td>\n",
       "      <td>5.83</td>\n",
       "      <td>5.0</td>\n",
       "      <td>7.0</td>\n",
       "      <td>15.88</td>\n",
       "      <td>11.34</td>\n",
       "      <td>65.77</td>\n",
       "      <td>NaN</td>\n",
       "      <td>NaN</td>\n",
       "      <td>21.6</td>\n",
       "      <td>(20, 30]</td>\n",
       "    </tr>\n",
       "    <tr>\n",
       "      <th>6</th>\n",
       "      <td>31</td>\n",
       "      <td>Female</td>\n",
       "      <td>7.0</td>\n",
       "      <td>5.12c/d</td>\n",
       "      <td>9-10 years</td>\n",
       "      <td>3-4 years</td>\n",
       "      <td>USA</td>\n",
       "      <td>Limestone</td>\n",
       "      <td>6.12</td>\n",
       "      <td>64.86</td>\n",
       "      <td>6.33</td>\n",
       "      <td>8.0</td>\n",
       "      <td>7.0</td>\n",
       "      <td>11.34</td>\n",
       "      <td>11.34</td>\n",
       "      <td>NaN</td>\n",
       "      <td>NaN</td>\n",
       "      <td>NaN</td>\n",
       "      <td>18.6</td>\n",
       "      <td>(30, 40]</td>\n",
       "    </tr>\n",
       "  </tbody>\n",
       "</table>\n",
       "</div>"
      ],
      "text/plain": [
       "   age     sex  max_boulder max_sport         exp   trainexp country  \\\n",
       "1   16  Female          6.0   5.12c/d   7-8 years  7-8 years     USA   \n",
       "2   19    Male          9.0   5.13c/d   >10 years  7-8 years     NaN   \n",
       "3   34    Male          8.0   5.12a/b   >10 years  5-6 years     NaN   \n",
       "4   30  Female          8.0   5.12a/b   7-8 years  3-4 years     USA   \n",
       "6   31  Female          7.0   5.12c/d  9-10 years  3-4 years     USA   \n",
       "\n",
       "        rock  height  weight  span  pullup  pushup  maxhang  weightedpull  \\\n",
       "1  Limestone    5.33   56.70  5.33    15.0    30.0     4.54          9.07   \n",
       "2  Sandstone    5.83   70.31  6.17    18.0    70.0    15.88         38.56   \n",
       "3    Granite    5.67   74.84  6.00    15.0    35.0    22.68         31.75   \n",
       "4    Granite    5.67   64.41  5.83     5.0     7.0    15.88         11.34   \n",
       "6  Limestone    6.12   64.86  6.33     8.0     7.0    11.34         11.34   \n",
       "\n",
       "      dl sportgrade bouldergrade  bmi_score   age_bin  \n",
       "1  49.90        NaN          NaN       21.5  (10, 20]  \n",
       "2    NaN        NaN          NaN       22.2  (10, 20]  \n",
       "3    NaN        NaN          NaN       25.1  (30, 40]  \n",
       "4  65.77        NaN          NaN       21.6  (20, 30]  \n",
       "6    NaN        NaN          NaN       18.6  (30, 40]  "
      ]
     },
     "execution_count": 305,
     "metadata": {},
     "output_type": "execute_result"
    }
   ],
   "source": [
    "df.head()"
   ]
  },
  {
   "cell_type": "code",
   "execution_count": null,
   "metadata": {},
   "outputs": [
    {
     "data": {
      "text/plain": [
       "Text(0.5, 0, 'age')"
      ]
     },
     "execution_count": 306,
     "metadata": {},
     "output_type": "execute_result"
    },
    {
     "data": {
      "image/png": "[encoded data removed]",
      "text/plain": [
       "<Figure size 640x480 with 1 Axes>"
      ]
     },
     "metadata": {},
     "output_type": "display_data"
    }
   ],
   "source": [
    "df['age'].plot(kind ='hist',color ='purple', edgecolor ='black')\n",
    "plt.xlabel('age')"
   ]
  },
  {
   "cell_type": "markdown",
   "metadata": {},
   "source": [
    "We see a normal distrution of Ages for this climbing dataset. I would have expected a more exponential distribution given the popularity of the sport amongst younger ages"
   ]
  },
  {
   "cell_type": "code",
   "execution_count": null,
   "metadata": {},
   "outputs": [
    {
     "data": {
      "text/plain": [
       "<AxesSubplot: >"
      ]
     },
     "execution_count": 307,
     "metadata": {},
     "output_type": "execute_result"
    },
    {
     "data": {
      "image/png": "[encoded data removed]",
      "text/plain": [
       "<Figure size 640x480 with 2 Axes>"
      ]
     },
     "metadata": {},
     "output_type": "display_data"
    }
   ],
   "source": [
    "numerics = ['int16', 'int32', 'int64', 'float16', 'float32', 'float64']\n",
    "numeric_df = df.select_dtypes(include = numerics)\n",
    "corr = numeric_df.corr()\n",
    "sns.heatmap(corr,annot = True, fmt = '.1g', cmap = 'mako')"
   ]
  },
  {
   "cell_type": "code",
   "execution_count": null,
   "metadata": {},
   "outputs": [],
   "source": []
  }
 ],
 "metadata": {
  "interpreter": {
   "hash": "1bf754f73ae084fba879b6d7b64605bafdfd048cb2c173d6152ad017a98c6d51"
  },
  "kernelspec": {
   "display_name": "Python 3.9.10 64-bit ('3.9.10')",
   "language": "python",
   "name": "python3"
  },
  "language_info": {
   "codemirror_mode": {
    "name": "ipython",
    "version": 3
   },
   "file_extension": ".py",
   "mimetype": "text/x-python",
   "name": "python",
   "nbconvert_exporter": "python",
   "pygments_lexer": "ipython3",
   "version": "3.9.10"
  },
  "orig_nbformat": 4
 },
 "nbformat": 4,
 "nbformat_minor": 2
}
