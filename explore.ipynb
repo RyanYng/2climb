{
 "cells": [
  {
   "cell_type": "code",
   "execution_count": 167,
   "metadata": {},
   "outputs": [],
   "source": [
    "import pandas as pd\n",
    "import matplotlib.pyplot as plt\n"
   ]
  },
  {
   "cell_type": "markdown",
   "metadata": {},
   "source": [
    "### Import Data"
   ]
  },
  {
   "cell_type": "code",
   "execution_count": 90,
   "metadata": {},
   "outputs": [],
   "source": [
    "pca_data = pd.read_csv('./data/PowerCompanyAssessmentData.csv', encoding='unicode_escape')"
   ]
  },
  {
   "cell_type": "code",
   "execution_count": 91,
   "metadata": {},
   "outputs": [
    {
     "data": {
      "text/html": [
       "<div>\n",
       "<style scoped>\n",
       "    .dataframe tbody tr th:only-of-type {\n",
       "        vertical-align: middle;\n",
       "    }\n",
       "\n",
       "    .dataframe tbody tr th {\n",
       "        vertical-align: top;\n",
       "    }\n",
       "\n",
       "    .dataframe thead th {\n",
       "        text-align: right;\n",
       "    }\n",
       "</style>\n",
       "<table border=\"1\" class=\"dataframe\">\n",
       "  <thead>\n",
       "    <tr style=\"text-align: right;\">\n",
       "      <th></th>\n",
       "      <th>age</th>\n",
       "      <th>sex</th>\n",
       "      <th>max_boulder</th>\n",
       "      <th>max_sport</th>\n",
       "      <th>exp</th>\n",
       "      <th>trainexp</th>\n",
       "      <th>country</th>\n",
       "      <th>state</th>\n",
       "      <th>rock</th>\n",
       "      <th>season</th>\n",
       "      <th>...</th>\n",
       "      <th>ancamp_score</th>\n",
       "      <th>aercamp_score</th>\n",
       "      <th>rep1_score</th>\n",
       "      <th>cont_score</th>\n",
       "      <th>pullup_score</th>\n",
       "      <th>pushup_score</th>\n",
       "      <th>ohpr_score</th>\n",
       "      <th>ohpl_score</th>\n",
       "      <th>dl_score</th>\n",
       "      <th>bmi_score</th>\n",
       "    </tr>\n",
       "  </thead>\n",
       "  <tbody>\n",
       "    <tr>\n",
       "      <th>0</th>\n",
       "      <td>43</td>\n",
       "      <td>Female</td>\n",
       "      <td>&lt;V3</td>\n",
       "      <td>5.10c/d</td>\n",
       "      <td>&gt;10 years</td>\n",
       "      <td>&lt;1 year</td>\n",
       "      <td>United States</td>\n",
       "      <td>KY</td>\n",
       "      <td>Sandstone</td>\n",
       "      <td>7-9 months</td>\n",
       "      <td>...</td>\n",
       "      <td>41.0</td>\n",
       "      <td>62.0</td>\n",
       "      <td>31.0</td>\n",
       "      <td>16.0</td>\n",
       "      <td>2.0</td>\n",
       "      <td>6.0</td>\n",
       "      <td>NaN</td>\n",
       "      <td>NaN</td>\n",
       "      <td>NaN</td>\n",
       "      <td>25.1</td>\n",
       "    </tr>\n",
       "    <tr>\n",
       "      <th>1</th>\n",
       "      <td>16</td>\n",
       "      <td>Female</td>\n",
       "      <td>V6</td>\n",
       "      <td>5.12c/d</td>\n",
       "      <td>7-8 years</td>\n",
       "      <td>7-8 years</td>\n",
       "      <td>US</td>\n",
       "      <td>Montana</td>\n",
       "      <td>Limestone</td>\n",
       "      <td>4-6 months</td>\n",
       "      <td>...</td>\n",
       "      <td>NaN</td>\n",
       "      <td>NaN</td>\n",
       "      <td>120.0</td>\n",
       "      <td>28.0</td>\n",
       "      <td>15.0</td>\n",
       "      <td>30.0</td>\n",
       "      <td>0.12</td>\n",
       "      <td>0.12</td>\n",
       "      <td>0.88</td>\n",
       "      <td>21.5</td>\n",
       "    </tr>\n",
       "    <tr>\n",
       "      <th>2</th>\n",
       "      <td>19</td>\n",
       "      <td>Male</td>\n",
       "      <td>V9</td>\n",
       "      <td>5.13c/d</td>\n",
       "      <td>&gt;10 years</td>\n",
       "      <td>7-8 years</td>\n",
       "      <td>Usa</td>\n",
       "      <td>Georgia</td>\n",
       "      <td>Sandstone</td>\n",
       "      <td>4-6 months</td>\n",
       "      <td>...</td>\n",
       "      <td>114.0</td>\n",
       "      <td>301.0</td>\n",
       "      <td>117.0</td>\n",
       "      <td>54.0</td>\n",
       "      <td>18.0</td>\n",
       "      <td>70.0</td>\n",
       "      <td>NaN</td>\n",
       "      <td>NaN</td>\n",
       "      <td>NaN</td>\n",
       "      <td>22.2</td>\n",
       "    </tr>\n",
       "    <tr>\n",
       "      <th>3</th>\n",
       "      <td>34</td>\n",
       "      <td>Male</td>\n",
       "      <td>V8</td>\n",
       "      <td>5.12a/b</td>\n",
       "      <td>&gt;10 years</td>\n",
       "      <td>5-6 years</td>\n",
       "      <td>USA</td>\n",
       "      <td>North Carolina</td>\n",
       "      <td>Granite</td>\n",
       "      <td>4-6 months</td>\n",
       "      <td>...</td>\n",
       "      <td>NaN</td>\n",
       "      <td>NaN</td>\n",
       "      <td>NaN</td>\n",
       "      <td>47.0</td>\n",
       "      <td>15.0</td>\n",
       "      <td>35.0</td>\n",
       "      <td>NaN</td>\n",
       "      <td>NaN</td>\n",
       "      <td>NaN</td>\n",
       "      <td>25.1</td>\n",
       "    </tr>\n",
       "    <tr>\n",
       "      <th>4</th>\n",
       "      <td>30</td>\n",
       "      <td>Female</td>\n",
       "      <td>V8</td>\n",
       "      <td>5.12a/b</td>\n",
       "      <td>7-8 years</td>\n",
       "      <td>3-4 years</td>\n",
       "      <td>US</td>\n",
       "      <td>Washington</td>\n",
       "      <td>Granite</td>\n",
       "      <td>4-6 months</td>\n",
       "      <td>...</td>\n",
       "      <td>95.0</td>\n",
       "      <td>210.0</td>\n",
       "      <td>NaN</td>\n",
       "      <td>NaN</td>\n",
       "      <td>5.0</td>\n",
       "      <td>7.0</td>\n",
       "      <td>0.18</td>\n",
       "      <td>0.18</td>\n",
       "      <td>1.02</td>\n",
       "      <td>21.6</td>\n",
       "    </tr>\n",
       "  </tbody>\n",
       "</table>\n",
       "<p>5 rows × 44 columns</p>\n",
       "</div>"
      ],
      "text/plain": [
       "   age     sex max_boulder max_sport        exp   trainexp        country  \\\n",
       "0   43  Female         <V3   5.10c/d  >10 years    <1 year  United States   \n",
       "1   16  Female          V6   5.12c/d  7-8 years  7-8 years             US   \n",
       "2   19    Male          V9   5.13c/d  >10 years  7-8 years            Usa   \n",
       "3   34    Male          V8   5.12a/b  >10 years  5-6 years            USA   \n",
       "4   30  Female          V8   5.12a/b  7-8 years  3-4 years             US   \n",
       "\n",
       "            state       rock      season  ... ancamp_score  aercamp_score  \\\n",
       "0              KY  Sandstone  7-9 months  ...         41.0           62.0   \n",
       "1         Montana  Limestone  4-6 months  ...          NaN            NaN   \n",
       "2        Georgia   Sandstone  4-6 months  ...        114.0          301.0   \n",
       "3  North Carolina    Granite  4-6 months  ...          NaN            NaN   \n",
       "4      Washington    Granite  4-6 months  ...         95.0          210.0   \n",
       "\n",
       "   rep1_score  cont_score  pullup_score  pushup_score ohpr_score  ohpl_score  \\\n",
       "0        31.0        16.0           2.0           6.0        NaN         NaN   \n",
       "1       120.0        28.0          15.0          30.0       0.12        0.12   \n",
       "2       117.0        54.0          18.0          70.0        NaN         NaN   \n",
       "3         NaN        47.0          15.0          35.0        NaN         NaN   \n",
       "4         NaN         NaN           5.0           7.0       0.18        0.18   \n",
       "\n",
       "   dl_score  bmi_score  \n",
       "0       NaN       25.1  \n",
       "1      0.88       21.5  \n",
       "2       NaN       22.2  \n",
       "3       NaN       25.1  \n",
       "4      1.02       21.6  \n",
       "\n",
       "[5 rows x 44 columns]"
      ]
     },
     "execution_count": 91,
     "metadata": {},
     "output_type": "execute_result"
    }
   ],
   "source": [
    "pca_data.head()"
   ]
  },
  {
   "cell_type": "markdown",
   "metadata": {},
   "source": [
    "### Cleaning"
   ]
  },
  {
   "cell_type": "code",
   "execution_count": 92,
   "metadata": {},
   "outputs": [
    {
     "data": {
      "text/plain": [
       "age                int64\n",
       "sex               object\n",
       "max_boulder       object\n",
       "max_sport         object\n",
       "exp               object\n",
       "trainexp          object\n",
       "country           object\n",
       "state             object\n",
       "rock              object\n",
       "season            object\n",
       "days              object\n",
       "height           float64\n",
       "weight           float64\n",
       "span             float64\n",
       "pullup           float64\n",
       "pushup           float64\n",
       "continuous        object\n",
       "maxhang          float64\n",
       "weightedpull     float64\n",
       "repeaters1       float64\n",
       "longcamp         float64\n",
       "shortcamp        float64\n",
       "ohpr             float64\n",
       "ohll             float64\n",
       "dl               float64\n",
       "sportgrade        object\n",
       "bouldergrade      object\n",
       "powl             float64\n",
       "powr             float64\n",
       "Unnamed: 29      float64\n",
       "hang_score       float64\n",
       "pull_score       float64\n",
       "powl_score       float64\n",
       "powr_score       float64\n",
       "ancamp_score     float64\n",
       "aercamp_score    float64\n",
       "rep1_score       float64\n",
       "cont_score       float64\n",
       "pullup_score     float64\n",
       "pushup_score     float64\n",
       "ohpr_score       float64\n",
       "ohpl_score       float64\n",
       "dl_score         float64\n",
       "bmi_score        float64\n",
       "dtype: object"
      ]
     },
     "execution_count": 92,
     "metadata": {},
     "output_type": "execute_result"
    }
   ],
   "source": [
    "pca_data.dtypes"
   ]
  },
  {
   "cell_type": "code",
   "execution_count": 93,
   "metadata": {},
   "outputs": [],
   "source": [
    "pca_data['country'] = pca_data['country'].astype(str)"
   ]
  },
  {
   "cell_type": "code",
   "execution_count": 157,
   "metadata": {},
   "outputs": [
    {
     "name": "stderr",
     "output_type": "stream",
     "text": [
      "/var/folders/_c/ss2y46dd1qj4crb2crlvw9140000gq/T/ipykernel_95982/362887896.py:3: SettingWithCopyWarning: \n",
      "A value is trying to be set on a copy of a slice from a DataFrame.\n",
      "Try using .loc[row_indexer,col_indexer] = value instead\n",
      "\n",
      "See the caveats in the documentation: https://pandas.pydata.org/pandas-docs/stable/user_guide/indexing.html#returning-a-view-versus-a-copy\n",
      "  df['max_boulder'] = df['max_boulder'].str.split(\"V\").str[1]\n"
     ]
    }
   ],
   "source": [
    "# clean max_boulder\n",
    "df = pca_data[pca_data['max_boulder'] != '<V3']\n",
    "df['max_boulder'] = df['max_boulder'].str.split(\"V\").str[1]\n",
    "df = df[df['max_boulder'].notnull()]\n",
    "df['max_boulder'] = df['max_boulder'].apply(lambda x: '0'+ x if x[0] != '1' else x)\n",
    "\n",
    "# clean country\n",
    "df['country'] = df['country'].str.upper()\n",
    "df['country'] = df['country'].apply(lambda x: x.strip())\n",
    "country_dict = {\n",
    "    'US':'USA', \n",
    "    'UNITED STATES':'USA',\n",
    "    'UNITES STATES':'USA',\n",
    "    'UNITED STATES OF AMERICA':'USA',\n",
    "    'THE UNITED STATES OF AMERICA':'USA',\n",
    "    'MURICA':'USA',\n",
    "    'USA USA USA USA USA':'USA',\n",
    "    'UNITED STATS':'USA',\n",
    "    'CANADA':'CANADA',\n",
    "    'MALAWI':'MALAWI',\n",
    "    'FINLAND': 'FINLAND',\n",
    "    'GERMANY': 'GERMANY',\n",
    "    'DEUTSCHLAND': 'GERMANY',\n",
    "    'AUSTRALIA':'AUSTRALIA',\n",
    "    'SWEDEN':'SWEDEN',\n",
    "    'ITALY':'ITALY',\n",
    "    'ITALIA':'ITALY',\n",
    "    'IRELAND':'IRELAND',\n",
    "    'NORGE':'NORWAY',\n",
    "    'NORWAY':'NORWAY',\n",
    "    'UNITED KINGDOM':'UK',\n",
    "    'UK':'UK',\n",
    "    'INDIA':'INDIA',\n",
    "    'SPAIN':'SPAIN',\n",
    "    'COSTA RICA':'COSTA RICA',\n",
    "    'AUSTRIA':'AUSTRIA',\n",
    "    'COLOMBIA':'COLOMBIA',\n",
    "    'TAIWAN':'TAIWAN',\n",
    "    'ST HELENA':'ST HELENA',\n",
    "    'ALLEMAGNE':'GERMANY',\n",
    "    'MÉXICO':'MEXICO',\n",
    "    'THE NETHERLANDS':'NETHERLANDS',\n",
    "    'PORTUGAL':'PORTUGAL',\n",
    "    'SOUTH AFRICA':'SOUTH AFRICA',\n",
    "\n",
    "    }\n",
    "df['country'] = df['country'].map(country_dict)\n",
    "\n",
    "# clean age\n",
    "bins = [10,20,30,40,50,60]\n",
    "df['age_bin'] = pd.cut(df['age'],bins)\n",
    "\n",
    "# clean training experience"
   ]
  },
  {
   "cell_type": "code",
   "execution_count": 163,
   "metadata": {},
   "outputs": [
    {
     "data": {
      "text/plain": [
       "array(['7-8 years', '5-6 years', '3-4 years', '1-2 years', '<1 year',\n",
       "       '>10 years', '9-10 years', nan, '> 10 years', '< 1 year'],\n",
       "      dtype=object)"
      ]
     },
     "execution_count": 163,
     "metadata": {},
     "output_type": "execute_result"
    }
   ],
   "source": []
  },
  {
   "cell_type": "markdown",
   "metadata": {},
   "source": [
    "## Exploration"
   ]
  },
  {
   "cell_type": "code",
   "execution_count": 158,
   "metadata": {},
   "outputs": [
    {
     "data": {
      "text/plain": [
       "Text(0.5, 0, 'age')"
      ]
     },
     "execution_count": 158,
     "metadata": {},
     "output_type": "execute_result"
    },
    {
     "data": {
      "image/png": "[encoded data removed]",
      "text/plain": [
       "<Figure size 640x480 with 1 Axes>"
      ]
     },
     "metadata": {},
     "output_type": "display_data"
    }
   ],
   "source": [
    "df['age'].plot(kind ='hist',color ='purple', edgecolor ='black')\n",
    "plt.xlabel('age')"
   ]
  },
  {
   "cell_type": "markdown",
   "metadata": {},
   "source": [
    "Interestingly we see a normal distrution of Ages for this climbing dataset. I would have expected a more exponential distribution given the popularity of the sport amongst younger ages"
   ]
  },
  {
   "cell_type": "code",
   "execution_count": 162,
   "metadata": {},
   "outputs": [
    {
     "data": {
      "text/plain": [
       "<AxesSubplot: xlabel='max_boulder'>"
      ]
     },
     "execution_count": 162,
     "metadata": {},
     "output_type": "execute_result"
    },
    {
     "data": {
      "image/png": "[encoded data removed]",
      "text/plain": [
       "<Figure size 800x800 with 1 Axes>"
      ]
     },
     "metadata": {},
     "output_type": "display_data"
    }
   ],
   "source": [
    "df[['max_boulder','age_bin']].groupby(['max_boulder','age_bin']).size().unstack(level=1).plot(kind ='bar',figsize=(8,8))"
   ]
  },
  {
   "cell_type": "markdown",
   "metadata": {},
   "source": [
    "As expected we see the ability to send hard boulders deteriote with age, but interestingly there does not seem to be a hughe difference between 20-30 and 30-40. How will this graph look when instead of age we look at training experience."
   ]
  },
  {
   "cell_type": "code",
   "execution_count": 166,
   "metadata": {},
   "outputs": [
    {
     "data": {
      "text/plain": [
       "<AxesSubplot: xlabel='max_boulder'>"
      ]
     },
     "execution_count": 166,
     "metadata": {},
     "output_type": "execute_result"
    },
    {
     "data": {
      "image/png": "[encoded data removed]",
      "text/plain": [
       "<Figure size 1000x1000 with 1 Axes>"
      ]
     },
     "metadata": {},
     "output_type": "display_data"
    }
   ],
   "source": [
    "df[['max_boulder','trainexp']].groupby(['max_boulder','trainexp']).size().unstack(level=1).plot(kind ='bar',figsize=(10,10))"
   ]
  },
  {
   "cell_type": "code",
   "execution_count": null,
   "metadata": {},
   "outputs": [],
   "source": []
  }
 ],
 "metadata": {
  "interpreter": {
   "hash": "1bf754f73ae084fba879b6d7b64605bafdfd048cb2c173d6152ad017a98c6d51"
  },
  "kernelspec": {
   "display_name": "Python 3.9.10 64-bit ('3.9.10')",
   "language": "python",
   "name": "python3"
  },
  "language_info": {
   "codemirror_mode": {
    "name": "ipython",
    "version": 3
   },
   "file_extension": ".py",
   "mimetype": "text/x-python",
   "name": "python",
   "nbconvert_exporter": "python",
   "pygments_lexer": "ipython3",
   "version": "3.9.10"
  },
  "orig_nbformat": 4
 },
 "nbformat": 4,
 "nbformat_minor": 2
}
