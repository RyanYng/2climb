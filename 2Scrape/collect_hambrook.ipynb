{
 "cells": [
  {
   "cell_type": "code",
   "execution_count": 202,
   "metadata": {},
   "outputs": [],
   "source": [
    "import requests\n",
    "import re\n",
    "import pandas as pd\n",
    "from bs4 import BeautifulSoup"
   ]
  },
  {
   "cell_type": "code",
   "execution_count": 232,
   "metadata": {},
   "outputs": [],
   "source": [
    "url = 'https://www.thecrag.com/en/climbing/united-kingdom/bristol-ring-road-boulders/hidden-wall/routes'\n",
    "page = requests.get(url)\n",
    "soup = BeautifulSoup(page.content,\"html.parser\")"
   ]
  },
  {
   "cell_type": "code",
   "execution_count": 233,
   "metadata": {},
   "outputs": [],
   "source": [
    "title = soup.find('title')\n",
    "str = title.text.split(\"|\")[0]\n",
    "location = str.split(\"in\")[1]"
   ]
  },
  {
   "cell_type": "code",
   "execution_count": 234,
   "metadata": {},
   "outputs": [],
   "source": [
    "routes = soup.find_all(\"tr\",{\"data-nodename\": True})"
   ]
  },
  {
   "cell_type": "code",
   "execution_count": 235,
   "metadata": {},
   "outputs": [
    {
     "data": {
      "text/plain": [
       "[' The Cave \\n\\n{FR} V2\\nLeft Wall\\n',\n",
       " ' The Cave \\n\\n{FR} V6\\nHappy Slapping\\n',\n",
       " ' The Cave \\n\\n{FR} V2\\nCentral Wall\\n',\n",
       " ' The Cave \\n\\n{FR} V2\\nPocket to me\\n',\n",
       " ' The Cave \\n\\n{FR} V4\\nRise and Shine\\n\\n\\nBoulder\\n\\n\\n\\n']"
      ]
     },
     "execution_count": 235,
     "metadata": {},
     "output_type": "execute_result"
    }
   ],
   "source": [
    "route_data = []\n",
    "for i in range(len(routes)):\n",
    "    route_data.append(local + routes[i].text)\n",
    "route_data    "
   ]
  },
  {
   "cell_type": "code",
   "execution_count": 236,
   "metadata": {},
   "outputs": [],
   "source": [
    "route_data = []\n",
    "for i in range(len(routes)):\n",
    "    route_data.append(location + routes[i].text)\n",
    "\n",
    "route_data = [i.split(\"\\n\") for i in route_data]\n",
    "\n",
    "for list in range(len(route_data)):\n",
    "    sub_list = route_data[list]\n",
    "    route_data[list] = [i for i in route_data[list] if i]\n",
    "route_df = pd.DataFrame(route_data, columns = ['location','grade','route','class'])"
   ]
  },
  {
   "cell_type": "code",
   "execution_count": 237,
   "metadata": {},
   "outputs": [
    {
     "data": {
      "text/html": [
       "<div>\n",
       "<style scoped>\n",
       "    .dataframe tbody tr th:only-of-type {\n",
       "        vertical-align: middle;\n",
       "    }\n",
       "\n",
       "    .dataframe tbody tr th {\n",
       "        vertical-align: top;\n",
       "    }\n",
       "\n",
       "    .dataframe thead th {\n",
       "        text-align: right;\n",
       "    }\n",
       "</style>\n",
       "<table border=\"1\" class=\"dataframe\">\n",
       "  <thead>\n",
       "    <tr style=\"text-align: right;\">\n",
       "      <th></th>\n",
       "      <th>location</th>\n",
       "      <th>grade</th>\n",
       "      <th>route</th>\n",
       "      <th>class</th>\n",
       "    </tr>\n",
       "  </thead>\n",
       "  <tbody>\n",
       "    <tr>\n",
       "      <th>0</th>\n",
       "      <td>Hidden Wall</td>\n",
       "      <td>{FR} V2</td>\n",
       "      <td>Left Wall</td>\n",
       "      <td>None</td>\n",
       "    </tr>\n",
       "    <tr>\n",
       "      <th>1</th>\n",
       "      <td>Hidden Wall</td>\n",
       "      <td>{FR} V6</td>\n",
       "      <td>Happy Slapping</td>\n",
       "      <td>None</td>\n",
       "    </tr>\n",
       "    <tr>\n",
       "      <th>2</th>\n",
       "      <td>Hidden Wall</td>\n",
       "      <td>{FR} V2</td>\n",
       "      <td>Central Wall</td>\n",
       "      <td>None</td>\n",
       "    </tr>\n",
       "    <tr>\n",
       "      <th>3</th>\n",
       "      <td>Hidden Wall</td>\n",
       "      <td>{FR} V2</td>\n",
       "      <td>Pocket to me</td>\n",
       "      <td>None</td>\n",
       "    </tr>\n",
       "    <tr>\n",
       "      <th>4</th>\n",
       "      <td>Hidden Wall</td>\n",
       "      <td>{FR} V4</td>\n",
       "      <td>Rise and Shine</td>\n",
       "      <td>Boulder</td>\n",
       "    </tr>\n",
       "  </tbody>\n",
       "</table>\n",
       "</div>"
      ],
      "text/plain": [
       "        location    grade           route    class\n",
       "0   Hidden Wall   {FR} V2       Left Wall     None\n",
       "1   Hidden Wall   {FR} V6  Happy Slapping     None\n",
       "2   Hidden Wall   {FR} V2    Central Wall     None\n",
       "3   Hidden Wall   {FR} V2    Pocket to me     None\n",
       "4   Hidden Wall   {FR} V4  Rise and Shine  Boulder"
      ]
     },
     "execution_count": 237,
     "metadata": {},
     "output_type": "execute_result"
    }
   ],
   "source": [
    "route_df "
   ]
  },
  {
   "cell_type": "code",
   "execution_count": null,
   "metadata": {},
   "outputs": [],
   "source": []
  }
 ],
 "metadata": {
  "interpreter": {
   "hash": "1bf754f73ae084fba879b6d7b64605bafdfd048cb2c173d6152ad017a98c6d51"
  },
  "kernelspec": {
   "display_name": "Python 3.9.10 64-bit ('3.9.10')",
   "language": "python",
   "name": "python3"
  },
  "language_info": {
   "codemirror_mode": {
    "name": "ipython",
    "version": 3
   },
   "file_extension": ".py",
   "mimetype": "text/x-python",
   "name": "python",
   "nbconvert_exporter": "python",
   "pygments_lexer": "ipython3",
   "version": "3.9.10"
  },
  "orig_nbformat": 4
 },
 "nbformat": 4,
 "nbformat_minor": 2
}
