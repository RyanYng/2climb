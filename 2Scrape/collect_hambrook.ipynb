{
 "cells": [
  {
   "cell_type": "code",
   "execution_count": 354,
   "metadata": {},
   "outputs": [],
   "source": [
    "import requests\n",
    "import re\n",
    "import pandas as pd\n",
    "from bs4 import BeautifulSoup\n",
    "from pathlib import Path \n",
    "\n",
    "from functions.scrape_routes import create_crag_df"
   ]
  },
  {
   "cell_type": "code",
   "execution_count": 355,
   "metadata": {},
   "outputs": [],
   "source": [
    "crag_data = create_crag_df('https://www.thecrag.com/en/climbing/united-kingdom/bristol-ring-road-boulders/the-cave/routes')"
   ]
  },
  {
   "cell_type": "code",
   "execution_count": 356,
   "metadata": {},
   "outputs": [
    {
     "data": {
      "text/html": [
       "<div>\n",
       "<style scoped>\n",
       "    .dataframe tbody tr th:only-of-type {\n",
       "        vertical-align: middle;\n",
       "    }\n",
       "\n",
       "    .dataframe tbody tr th {\n",
       "        vertical-align: top;\n",
       "    }\n",
       "\n",
       "    .dataframe thead th {\n",
       "        text-align: right;\n",
       "    }\n",
       "</style>\n",
       "<table border=\"1\" class=\"dataframe\">\n",
       "  <thead>\n",
       "    <tr style=\"text-align: right;\">\n",
       "      <th></th>\n",
       "      <th>location</th>\n",
       "      <th>grade</th>\n",
       "      <th>route</th>\n",
       "      <th>class</th>\n",
       "    </tr>\n",
       "  </thead>\n",
       "  <tbody>\n",
       "    <tr>\n",
       "      <th>0</th>\n",
       "      <td>The Cave</td>\n",
       "      <td>{FR} V5</td>\n",
       "      <td>Creaky Roof Traverse</td>\n",
       "      <td>None</td>\n",
       "    </tr>\n",
       "    <tr>\n",
       "      <th>1</th>\n",
       "      <td>The Cave</td>\n",
       "      <td>{FR} V4</td>\n",
       "      <td>Edge of it All</td>\n",
       "      <td>None</td>\n",
       "    </tr>\n",
       "    <tr>\n",
       "      <th>2</th>\n",
       "      <td>The Cave</td>\n",
       "      <td>{FR} V2</td>\n",
       "      <td>Throw up</td>\n",
       "      <td>None</td>\n",
       "    </tr>\n",
       "    <tr>\n",
       "      <th>3</th>\n",
       "      <td>The Cave</td>\n",
       "      <td>{FR} V1</td>\n",
       "      <td>Dinner Plate Roof</td>\n",
       "      <td>None</td>\n",
       "    </tr>\n",
       "    <tr>\n",
       "      <th>4</th>\n",
       "      <td>The Cave</td>\n",
       "      <td>{FR} V4</td>\n",
       "      <td>The Rocker</td>\n",
       "      <td>Boulder</td>\n",
       "    </tr>\n",
       "    <tr>\n",
       "      <th>5</th>\n",
       "      <td>The Cave</td>\n",
       "      <td>{FR} V2</td>\n",
       "      <td>Cave Roof</td>\n",
       "      <td>Boulder</td>\n",
       "    </tr>\n",
       "    <tr>\n",
       "      <th>6</th>\n",
       "      <td>The Cave</td>\n",
       "      <td>{FR} V6</td>\n",
       "      <td>Youch!</td>\n",
       "      <td>Boulder</td>\n",
       "    </tr>\n",
       "  </tbody>\n",
       "</table>\n",
       "</div>"
      ],
      "text/plain": [
       "     location    grade                 route    class\n",
       "0   The Cave   {FR} V5  Creaky Roof Traverse     None\n",
       "1   The Cave   {FR} V4        Edge of it All     None\n",
       "2   The Cave   {FR} V2             Throw up      None\n",
       "3   The Cave   {FR} V1     Dinner Plate Roof     None\n",
       "4   The Cave   {FR} V4            The Rocker  Boulder\n",
       "5   The Cave   {FR} V2             Cave Roof  Boulder\n",
       "6   The Cave   {FR} V6                Youch!  Boulder"
      ]
     },
     "execution_count": 356,
     "metadata": {},
     "output_type": "execute_result"
    }
   ],
   "source": [
    "crag_data"
   ]
  },
  {
   "cell_type": "code",
   "execution_count": 320,
   "metadata": {},
   "outputs": [],
   "source": [
    "url = \"https://www.thecrag.com/en/climbing/united-kingdom/bristol-ring-road-boulders/routes\"\n",
    "page = requests.get(url)\n",
    "soup = BeautifulSoup(page.content,\"html.parser\")"
   ]
  },
  {
   "cell_type": "code",
   "execution_count": 321,
   "metadata": {},
   "outputs": [
    {
     "data": {
      "text/plain": [
       "5"
      ]
     },
     "execution_count": 321,
     "metadata": {},
     "output_type": "execute_result"
    }
   ],
   "source": [
    "hrefs = soup.find_all('a',{'data-nid': True, 'href' : True})\n",
    "href_list = []\n",
    "\n",
    "for x in hrefs:\n",
    "    if 'routes' in x['href'] and 'ring-road-boulders' in x['href']:\n",
    "        href_list.append(x['href'])\n",
    "\n",
    "len(href_list)"
   ]
  },
  {
   "cell_type": "code",
   "execution_count": 334,
   "metadata": {},
   "outputs": [
    {
     "name": "stdout",
     "output_type": "stream",
     "text": [
      "['/en/climbing/united-kingdom/bristol-ring-road-boulders/routes', '/en/climbing/united-kingdom/bristol-ring-road-boulders/routes', '/en/climbing/united-kingdom/bristol-ring-road-boulders/ring-road-boulder/routes', '/en/climbing/united-kingdom/bristol-ring-road-boulders/hidden-wall/routes', '/en/climbing/united-kingdom/bristol-ring-road-boulders/the-cave/routes']\n"
     ]
    }
   ],
   "source": [
    "print(href_list)"
   ]
  },
  {
   "cell_type": "code",
   "execution_count": 357,
   "metadata": {},
   "outputs": [],
   "source": [
    "\n",
    "for i in range(len(href_list)):\n",
    "    df = create_crag_df(f'https://www.thecrag.com/{href_list[i]}')\n",
    "    filepath = Path(f'./data/{i}.csv')  \n",
    "    df.to_csv(filepath)\n",
    "     "
   ]
  },
  {
   "cell_type": "code",
   "execution_count": 328,
   "metadata": {},
   "outputs": [
    {
     "data": {
      "text/html": [
       "<div>\n",
       "<style scoped>\n",
       "    .dataframe tbody tr th:only-of-type {\n",
       "        vertical-align: middle;\n",
       "    }\n",
       "\n",
       "    .dataframe tbody tr th {\n",
       "        vertical-align: top;\n",
       "    }\n",
       "\n",
       "    .dataframe thead th {\n",
       "        text-align: right;\n",
       "    }\n",
       "</style>\n",
       "<table border=\"1\" class=\"dataframe\">\n",
       "  <thead>\n",
       "    <tr style=\"text-align: right;\">\n",
       "      <th></th>\n",
       "      <th>location</th>\n",
       "      <th>grade</th>\n",
       "      <th>route</th>\n",
       "      <th>class</th>\n",
       "    </tr>\n",
       "  </thead>\n",
       "  <tbody>\n",
       "    <tr>\n",
       "      <th>0</th>\n",
       "      <td>The Cave</td>\n",
       "      <td>{FR} V5</td>\n",
       "      <td>Creaky Roof Traverse</td>\n",
       "      <td>None</td>\n",
       "    </tr>\n",
       "    <tr>\n",
       "      <th>1</th>\n",
       "      <td>The Cave</td>\n",
       "      <td>{FR} V4</td>\n",
       "      <td>Edge of it All</td>\n",
       "      <td>None</td>\n",
       "    </tr>\n",
       "    <tr>\n",
       "      <th>2</th>\n",
       "      <td>The Cave</td>\n",
       "      <td>{FR} V2</td>\n",
       "      <td>Throw up</td>\n",
       "      <td>None</td>\n",
       "    </tr>\n",
       "    <tr>\n",
       "      <th>3</th>\n",
       "      <td>The Cave</td>\n",
       "      <td>{FR} V1</td>\n",
       "      <td>Dinner Plate Roof</td>\n",
       "      <td>None</td>\n",
       "    </tr>\n",
       "    <tr>\n",
       "      <th>4</th>\n",
       "      <td>The Cave</td>\n",
       "      <td>{FR} V4</td>\n",
       "      <td>The Rocker</td>\n",
       "      <td>Boulder</td>\n",
       "    </tr>\n",
       "    <tr>\n",
       "      <th>5</th>\n",
       "      <td>The Cave</td>\n",
       "      <td>{FR} V2</td>\n",
       "      <td>Cave Roof</td>\n",
       "      <td>Boulder</td>\n",
       "    </tr>\n",
       "    <tr>\n",
       "      <th>6</th>\n",
       "      <td>The Cave</td>\n",
       "      <td>{FR} V6</td>\n",
       "      <td>Youch!</td>\n",
       "      <td>Boulder</td>\n",
       "    </tr>\n",
       "  </tbody>\n",
       "</table>\n",
       "</div>"
      ],
      "text/plain": [
       "     location    grade                 route    class\n",
       "0   The Cave   {FR} V5  Creaky Roof Traverse     None\n",
       "1   The Cave   {FR} V4        Edge of it All     None\n",
       "2   The Cave   {FR} V2             Throw up      None\n",
       "3   The Cave   {FR} V1     Dinner Plate Roof     None\n",
       "4   The Cave   {FR} V4            The Rocker  Boulder\n",
       "5   The Cave   {FR} V2             Cave Roof  Boulder\n",
       "6   The Cave   {FR} V6                Youch!  Boulder"
      ]
     },
     "execution_count": 328,
     "metadata": {},
     "output_type": "execute_result"
    }
   ],
   "source": [
    "df"
   ]
  },
  {
   "cell_type": "code",
   "execution_count": null,
   "metadata": {},
   "outputs": [],
   "source": []
  },
  {
   "cell_type": "code",
   "execution_count": null,
   "metadata": {},
   "outputs": [],
   "source": []
  }
 ],
 "metadata": {
  "interpreter": {
   "hash": "1bf754f73ae084fba879b6d7b64605bafdfd048cb2c173d6152ad017a98c6d51"
  },
  "kernelspec": {
   "display_name": "Python 3.9.10 64-bit ('3.9.10')",
   "language": "python",
   "name": "python3"
  },
  "language_info": {
   "codemirror_mode": {
    "name": "ipython",
    "version": 3
   },
   "file_extension": ".py",
   "mimetype": "text/x-python",
   "name": "python",
   "nbconvert_exporter": "python",
   "pygments_lexer": "ipython3",
   "version": "3.9.10"
  },
  "orig_nbformat": 4
 },
 "nbformat": 4,
 "nbformat_minor": 2
}
